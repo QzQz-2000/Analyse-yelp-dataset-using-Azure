{
 "cells": [
  {
   "cell_type": "markdown",
   "metadata": {},
   "source": [
    "#### Intro: this is the notebook I use on the Databricks to analyse the yelp dataset."
   ]
  },
  {
   "cell_type": "code",
   "execution_count": null,
   "metadata": {
    "application/vnd.databricks.v1+cell": {
     "cellMetadata": {
      "byteLimit": 2048000,
      "rowLimit": 10000
     },
     "inputWidgets": {},
     "nuid": "15ab47a2-60c6-4eaf-bc95-36ca70cf9ed5",
     "showTitle": false,
     "title": ""
    }
   },
   "outputs": [],
   "source": [
    "#import packages\n",
    "import pyspark.sql.functions as f\n",
    "from pyspark.sql.window import Window"
   ]
  },
  {
   "cell_type": "markdown",
   "metadata": {},
   "source": [
    "### Dataset preperation"
   ]
  },
  {
   "cell_type": "markdown",
   "metadata": {},
   "source": [
    "Set ADLS configurations"
   ]
  },
  {
   "cell_type": "code",
   "execution_count": null,
   "metadata": {
    "application/vnd.databricks.v1+cell": {
     "cellMetadata": {
      "byteLimit": 2048000,
      "rowLimit": 10000
     },
     "inputWidgets": {},
     "nuid": "075c2609-c167-4e75-a163-32b09c0df639",
     "showTitle": true,
     "title": "Set ADLS configurations"
    }
   },
   "outputs": [],
   "source": [
    "spark.conf.set(\"fs.azure.account.key.yelpprojectlbw.dfs.core.windows.net\", \"< my account key>)\")"
   ]
  },
  {
   "cell_type": "markdown",
   "metadata": {},
   "source": [
    "List datasets in ADLS"
   ]
  },
  {
   "cell_type": "code",
   "execution_count": null,
   "metadata": {
    "application/vnd.databricks.v1+cell": {
     "cellMetadata": {
      "byteLimit": 2048000,
      "rowLimit": 10000
     },
     "inputWidgets": {},
     "nuid": "ce18a410-4416-4802-bd93-33683063f682",
     "showTitle": true,
     "title": "List Datasets In ADLS"
    }
   },
   "outputs": [
    {
     "data": {
      "text/plain": [
       "[FileInfo(path='abfss://yelp-target-container@yelpprojectlbw.dfs.core.windows.net/json_to_delta/', name='json_to_delta/', size=0, modificationTime=1709644159000),\n",
       " FileInfo(path='abfss://yelp-target-container@yelpprojectlbw.dfs.core.windows.net/json_to_parquet/', name='json_to_parquet/', size=0, modificationTime=1709643524000),\n",
       " FileInfo(path='abfss://yelp-target-container@yelpprojectlbw.dfs.core.windows.net/yelp_academic_dataset_business.json', name='yelp_academic_dataset_business.json', size=118863795, modificationTime=1709642676000),\n",
       " FileInfo(path='abfss://yelp-target-container@yelpprojectlbw.dfs.core.windows.net/yelp_academic_dataset_checkin.json', name='yelp_academic_dataset_checkin.json', size=286958945, modificationTime=1709642674000),\n",
       " FileInfo(path='abfss://yelp-target-container@yelpprojectlbw.dfs.core.windows.net/yelp_academic_dataset_review.json', name='yelp_academic_dataset_review.json', size=5341868833, modificationTime=1709642700000),\n",
       " FileInfo(path='abfss://yelp-target-container@yelpprojectlbw.dfs.core.windows.net/yelp_academic_dataset_tip.json', name='yelp_academic_dataset_tip.json', size=180604475, modificationTime=1709642685000),\n",
       " FileInfo(path='abfss://yelp-target-container@yelpprojectlbw.dfs.core.windows.net/yelp_academic_dataset_user.json', name='yelp_academic_dataset_user.json', size=3363329011, modificationTime=1709642712000)]"
      ]
     },
     "execution_count": 4,
     "metadata": {},
     "output_type": "execute_result"
    }
   ],
   "source": [
    "dbutils.fs.ls(\"abfss://yelp-target-container@yelpprojectlbw.dfs.core.windows.net/\")"
   ]
  },
  {
   "cell_type": "markdown",
   "metadata": {},
   "source": [
    "Read yelp datasets in ADLS and convert JSON to parquet for better performance"
   ]
  },
  {
   "cell_type": "code",
   "execution_count": null,
   "metadata": {
    "application/vnd.databricks.v1+cell": {
     "cellMetadata": {
      "byteLimit": 2048000,
      "rowLimit": 10000
     },
     "inputWidgets": {},
     "nuid": "567ea45e-faaf-490d-ad08-e9d477248aff",
     "showTitle": true,
     "title": "Read yelp datasets in ADLS and convert JSON to parquet for better performance"
    }
   },
   "outputs": [],
   "source": [
    "df_business = spark.read.json(\"abfss://yelp-target-container@yelpprojectlbw.dfs.core.windows.net/yelp_academic_dataset_business.json\")\n",
    "df_business.write.mode('overwrite').parquet(\"abfss://yelp-target-container@yelpprojectlbw.dfs.core.windows.net/json_to_parquet/business.parquet\")\n",
    "\n",
    "df_checkin = spark.read.json(\"abfss://yelp-target-container@yelpprojectlbw.dfs.core.windows.net/yelp_academic_dataset_checkin.json\")\n",
    "df_checkin.write.mode('overwrite').parquet(\"abfss://yelp-target-container@yelpprojectlbw.dfs.core.windows.net/json_to_parquet/checkin.parquet\")\n",
    "\n",
    "df_review = spark.read.json(\"abfss://yelp-target-container@yelpprojectlbw.dfs.core.windows.net/yelp_academic_dataset_review.json\")\n",
    "df_review.write.mode('overwrite').parquet(\"abfss://yelp-target-container@yelpprojectlbw.dfs.core.windows.net/json_to_parquet/review.parquet\")\n",
    "\n",
    "df_tip = spark.read.json(\"abfss://yelp-target-container@yelpprojectlbw.dfs.core.windows.net/yelp_academic_dataset_tip.json\")\n",
    "df_tip.write.mode('overwrite').parquet(\"abfss://yelp-target-container@yelpprojectlbw.dfs.core.windows.net/json_to_parquet/tip.parquet\")\n",
    "\n",
    "df_user = spark.read.json(\"abfss://yelp-target-container@yelpprojectlbw.dfs.core.windows.net/yelp_academic_dataset_user.json\")\n",
    "df_user.write.mode('overwrite').parquet(\"abfss://yelp-target-container@yelpprojectlbw.dfs.core.windows.net/json_to_parquet/user.parquet\")"
   ]
  },
  {
   "cell_type": "markdown",
   "metadata": {},
   "source": [
    "Convert JSON to Delta Format (but in this project we use parquet)"
   ]
  },
  {
   "cell_type": "code",
   "execution_count": null,
   "metadata": {
    "application/vnd.databricks.v1+cell": {
     "cellMetadata": {
      "byteLimit": 2048000,
      "rowLimit": 10000
     },
     "inputWidgets": {},
     "nuid": "1485734f-c50d-4288-9fc2-5f0b9cf40a82",
     "showTitle": true,
     "title": "Convert JSON to Delta Format"
    }
   },
   "outputs": [],
   "source": [
    "df_business.write.mode('overwrite').parquet(\"abfss://yelp-target-container@yelpprojectlbw.dfs.core.windows.net/json_to_delta/business.delta\")"
   ]
  },
  {
   "cell_type": "markdown",
   "metadata": {},
   "source": [
    "Read parquet file"
   ]
  },
  {
   "cell_type": "code",
   "execution_count": null,
   "metadata": {
    "application/vnd.databricks.v1+cell": {
     "cellMetadata": {
      "byteLimit": 2048000,
      "rowLimit": 10000
     },
     "inputWidgets": {},
     "nuid": "81d72b5b-30ab-4532-9a7a-bad18fcd8cca",
     "showTitle": true,
     "title": "Read parquet file"
    }
   },
   "outputs": [],
   "source": [
    "df_business = spark.read.parquet(\"abfss://yelp-target-container@yelpprojectlbw.dfs.core.windows.net/json_to_parquet/business.parquet\")\n",
    "df_checkin = spark.read.parquet(\"abfss://yelp-target-container@yelpprojectlbw.dfs.core.windows.net/json_to_parquet/checkin.parquet\")\n",
    "df_review = spark.read.parquet(\"abfss://yelp-target-container@yelpprojectlbw.dfs.core.windows.net/json_to_parquet/review.parquet\")\n",
    "df_tip = spark.read.parquet(\"abfss://yelp-target-container@yelpprojectlbw.dfs.core.windows.net/json_to_parquet/tip.parquet\")\n",
    "df_user = spark.read.parquet(\"abfss://yelp-target-container@yelpprojectlbw.dfs.core.windows.net/json_to_parquet/user.parquet\")"
   ]
  },
  {
   "cell_type": "markdown",
   "metadata": {},
   "source": [
    "Total records in each datasets"
   ]
  },
  {
   "cell_type": "code",
   "execution_count": null,
   "metadata": {
    "application/vnd.databricks.v1+cell": {
     "cellMetadata": {
      "byteLimit": 2048000,
      "rowLimit": 10000
     },
     "inputWidgets": {},
     "nuid": "c17abc87-4b42-4a81-952b-b1a87056f42b",
     "showTitle": true,
     "title": "Total records in each datasets"
    }
   },
   "outputs": [
    {
     "name": "stdout",
     "output_type": "stream",
     "text": [
      "df_tip: 908915\n",
      "df_checkin: 131930\n",
      "df_business: 150346\n",
      "df_review: 6990280\n",
      "df_user: 1987897\n"
     ]
    }
   ],
   "source": [
    "print(\"df_tip: \" + str(df_tip.count()))\n",
    "print(\"df_checkin: \" + str(df_checkin.count()))\n",
    "print(\"df_business: \" + str(df_business.count()))\n",
    "print(\"df_review: \" + str(df_review.count()))\n",
    "print(\"df_user: \" + str(df_user.count()))   "
   ]
  },
  {
   "cell_type": "code",
   "execution_count": null,
   "metadata": {
    "application/vnd.databricks.v1+cell": {
     "cellMetadata": {
      "byteLimit": 2048000,
      "rowLimit": 10000
     },
     "inputWidgets": {},
     "nuid": "30c3a551-e671-423f-a18c-d41d2d67c12b",
     "showTitle": false,
     "title": ""
    }
   },
   "outputs": [
    {
     "data": {
      "text/plain": [
       "908915"
      ]
     },
     "execution_count": 10,
     "metadata": {},
     "output_type": "execute_result"
    }
   ],
   "source": [
    "df_tip.count()"
   ]
  },
  {
   "cell_type": "markdown",
   "metadata": {},
   "source": [
    "### Partition the dataset"
   ]
  },
  {
   "cell_type": "markdown",
   "metadata": {},
   "source": [
    "Extract `year` and `month` from `date` column for `tip` dataset, we add two columns: `tip_year` and `tip_month`."
   ]
  },
  {
   "cell_type": "code",
   "execution_count": null,
   "metadata": {},
   "outputs": [],
   "source": [
    "df_tip = df_tip.withColumn(\"tip_year\", f.year(f.to_date(f.col(\"date\"))))\n",
    "df_tip = df_tip.withColumn(\"tip_month\", f.month(f.to_date(f.col(\"date\"))))"
   ]
  },
  {
   "cell_type": "markdown",
   "metadata": {},
   "source": [
    "Partition dataset tip by year and month"
   ]
  },
  {
   "cell_type": "code",
   "execution_count": null,
   "metadata": {
    "application/vnd.databricks.v1+cell": {
     "cellMetadata": {
      "byteLimit": 2048000,
      "rowLimit": 10000
     },
     "inputWidgets": {},
     "nuid": "621fcb90-ce70-40b6-b33d-8e7bbbf740fb",
     "showTitle": true,
     "title": "Partition dataset tip by date column"
    }
   },
   "outputs": [],
   "source": [
    "df_tip.write.mode(\"overwrite\").partitionBy(\"tip_year\", \"tip_month\").parquet(\"abfss://yelp-target-container@yelpprojectlbw.dfs.core.windows.net/tip_partitioned_by_year_and_month/\")"
   ]
  },
  {
   "cell_type": "markdown",
   "metadata": {},
   "source": [
    "`repartition()` vs `coalesce()`"
   ]
  },
  {
   "cell_type": "code",
   "execution_count": null,
   "metadata": {
    "application/vnd.databricks.v1+cell": {
     "cellMetadata": {},
     "inputWidgets": {},
     "nuid": "cac33d67-1c92-4460-913d-a2d3f2a31742",
     "showTitle": true,
     "title": "repartition() vs coalesce()"
    }
   },
   "outputs": [],
   "source": [
    "#  Difference between coalesce and repartition\n",
    "#  \n",
    "#  coalesce uses existing partitions to minimize the amount of data that's shuffled. repartition creates new partitions and does a full shuffle. coalesce results in partitions with different amounts of data (sometimes partitions that have much different sizes) and repartition results in roughly equal sized partitions.\n",
    "#  \n",
    "#  Is coalesce or repartition faster?\n",
    "#  \n",
    "#  coalesce may run faster than repartition, but unequal sized partitions are generally slower to work with than equal sized partitions. You'll usually need to repartition datasets after filtering a large data set. I've found repartition to be faster overall because Spark is built to work with equal sized partitions."
   ]
  },
  {
   "cell_type": "code",
   "execution_count": null,
   "metadata": {
    "application/vnd.databricks.v1+cell": {
     "cellMetadata": {
      "byteLimit": 2048000,
      "rowLimit": 10000
     },
     "inputWidgets": {},
     "nuid": "eed133b0-e325-4a4c-9a7e-6e4d64085ecd",
     "showTitle": false,
     "title": ""
    }
   },
   "outputs": [
    {
     "name": "stdout",
     "output_type": "stream",
     "text": [
      "current number of partitions: 25\n",
      "reduced number of partitions after coalesce: 10\n",
      "increased number of partitions after coalesce: 30\n"
     ]
    }
   ],
   "source": [
    "print(\"current number of partitions: \" + str(df_user.rdd.getNumPartitions()))\n",
    "\n",
    "# reduce the number of partitions to 10, with coalesce we can not increase number of partitions\n",
    "df_reduce_part = df_user.coalesce(10)\n",
    "print(\"reduced number of partitions after coalesce: \" + str(df_reduce_part.rdd.getNumPartitions()))\n",
    "\n",
    "# repartition the data\n",
    "df_increased_df = df_user.repartition(30)\n",
    "print(\"increased number of partitions after coalesce: \" + str(df_increased_df.rdd.getNumPartitions()))"
   ]
  },
  {
   "cell_type": "code",
   "execution_count": null,
   "metadata": {
    "application/vnd.databricks.v1+cell": {
     "cellMetadata": {
      "byteLimit": 2048000,
      "rowLimit": 10000
     },
     "inputWidgets": {},
     "nuid": "35f33b63-a076-4563-b941-bba490a8057d",
     "showTitle": false,
     "title": ""
    }
   },
   "outputs": [],
   "source": [
    "# coalesce takes less time than repartition\n",
    "df_user.coalesce(10).write.mode('overwrite').parquet(\"abfss://yelp-target-container@yelpprojectlbw.dfs.core.windows.net/coalesce/user.parquet\")"
   ]
  },
  {
   "cell_type": "code",
   "execution_count": null,
   "metadata": {
    "application/vnd.databricks.v1+cell": {
     "cellMetadata": {
      "byteLimit": 2048000,
      "rowLimit": 10000
     },
     "inputWidgets": {},
     "nuid": "096bd977-425f-42d4-a858-d7cd8b6ea654",
     "showTitle": false,
     "title": ""
    }
   },
   "outputs": [],
   "source": [
    "# repartition\n",
    "df_user.repartition(10).write.mode('overwrite').parquet(\"abfss://yelp-target-container@yelpprojectlbw.dfs.core.windows.net/repartition/user.parquet\")"
   ]
  },
  {
   "cell_type": "markdown",
   "metadata": {},
   "source": [
    "### Dataset analysis"
   ]
  },
  {
   "cell_type": "markdown",
   "metadata": {},
   "source": [
    "##### Analyses `user` dataset"
   ]
  },
  {
   "cell_type": "code",
   "execution_count": null,
   "metadata": {},
   "outputs": [],
   "source": [
    "# use the repartitioned data\n",
    "df_user = spark.read.parquet(\"abfss://yelp-target-container@yelpprojectlbw.dfs.core.windows.net/repartition/user.parquet\")"
   ]
  },
  {
   "cell_type": "code",
   "execution_count": null,
   "metadata": {
    "application/vnd.databricks.v1+cell": {
     "cellMetadata": {
      "byteLimit": 2048000,
      "rowLimit": 10000
     },
     "inputWidgets": {},
     "nuid": "a91d9dd7-79d6-40d3-a6c5-457aceda5a49",
     "showTitle": false,
     "title": ""
    }
   },
   "outputs": [],
   "source": [
    "# Create or replace a temporary view using a DataFrame for subsequent Spark SQL queries and analysis. Once the SparkSession is closed, the temporary view will also be removed.\n",
    "df_user.createOrReplaceTempView(\"user\")"
   ]
  },
  {
   "cell_type": "markdown",
   "metadata": {},
   "source": [
    "Find the top 3 users based on their total number of reviews"
   ]
  },
  {
   "cell_type": "code",
   "execution_count": null,
   "metadata": {
    "application/vnd.databricks.v1+cell": {
     "cellMetadata": {
      "byteLimit": 2048000,
      "implicitDf": true,
      "rowLimit": 10000
     },
     "inputWidgets": {},
     "nuid": "e50bd5e5-a22f-48d6-bd66-3ecb41bc37c5",
     "showTitle": true,
     "title": "Find the top 3 users based on their total number of reviews"
    }
   },
   "outputs": [
    {
     "data": {
      "text/html": [
       "<style scoped>\n",
       "  .table-result-container {\n",
       "    max-height: 300px;\n",
       "    overflow: auto;\n",
       "  }\n",
       "  table, th, td {\n",
       "    border: 1px solid black;\n",
       "    border-collapse: collapse;\n",
       "  }\n",
       "  th, td {\n",
       "    padding: 5px;\n",
       "  }\n",
       "  th {\n",
       "    text-align: left;\n",
       "  }\n",
       "</style><div class='table-result-container'><table class='table-result'><thead style='background-color: white'><tr><th>user_id</th><th>name</th><th>review_count</th></tr></thead><tbody><tr><td>Hi10sGSZNxQH3NLyWSZ1oA</td><td>Fox</td><td>17473</td></tr><tr><td>8k3aO-mPeyhbR5HUucA5aA</td><td>Victor</td><td>16978</td></tr><tr><td>hWDybu_KvYLSdEFzGrniTw</td><td>Bruce</td><td>16567</td></tr></tbody></table></div>"
      ]
     },
     "metadata": {
      "application/vnd.databricks.v1+output": {
       "addedWidgets": {},
       "aggData": [],
       "aggError": "",
       "aggOverflow": false,
       "aggSchema": [],
       "aggSeriesLimitReached": false,
       "aggType": "",
       "arguments": {},
       "columnCustomDisplayInfos": {},
       "data": [
        [
         "Hi10sGSZNxQH3NLyWSZ1oA",
         "Fox",
         17473
        ],
        [
         "8k3aO-mPeyhbR5HUucA5aA",
         "Victor",
         16978
        ],
        [
         "hWDybu_KvYLSdEFzGrniTw",
         "Bruce",
         16567
        ]
       ],
       "datasetInfos": [],
       "dbfsResultPath": null,
       "isJsonSchema": true,
       "metadata": {
        "dataframeName": "_sqldf",
        "executionCount": 18
       },
       "overflow": false,
       "plotOptions": {
        "customPlotOptions": {},
        "displayType": "table",
        "pivotAggregation": null,
        "pivotColumns": null,
        "xColumns": null,
        "yColumns": null
       },
       "removedWidgets": [],
       "schema": [
        {
         "metadata": "{}",
         "name": "user_id",
         "type": "\"string\""
        },
        {
         "metadata": "{}",
         "name": "name",
         "type": "\"string\""
        },
        {
         "metadata": "{}",
         "name": "review_count",
         "type": "\"long\""
        }
       ],
       "type": "table"
      }
     },
     "output_type": "display_data"
    }
   ],
   "source": [
    "%sql\n",
    "select\n",
    "  user_id,\n",
    "  name,\n",
    "  review_count\n",
    "from\n",
    "  user\n",
    "order by\n",
    "  review_count desc\n",
    "limit\n",
    "  3;"
   ]
  },
  {
   "cell_type": "markdown",
   "metadata": {},
   "source": [
    "Find the top 10 users with the most fans"
   ]
  },
  {
   "cell_type": "code",
   "execution_count": null,
   "metadata": {
    "application/vnd.databricks.v1+cell": {
     "cellMetadata": {
      "byteLimit": 2048000,
      "implicitDf": true,
      "rowLimit": 10000
     },
     "inputWidgets": {},
     "nuid": "98148693-8aaf-4282-b16a-9fe281c4a96c",
     "showTitle": true,
     "title": "Find the top 10 users with the most fans"
    }
   },
   "outputs": [
    {
     "data": {
      "text/html": [
       "<style scoped>\n",
       "  .table-result-container {\n",
       "    max-height: 300px;\n",
       "    overflow: auto;\n",
       "  }\n",
       "  table, th, td {\n",
       "    border: 1px solid black;\n",
       "    border-collapse: collapse;\n",
       "  }\n",
       "  th, td {\n",
       "    padding: 5px;\n",
       "  }\n",
       "  th {\n",
       "    text-align: left;\n",
       "  }\n",
       "</style><div class='table-result-container'><table class='table-result'><thead style='background-color: white'><tr><th>user_id</th><th>name</th><th>fans</th></tr></thead><tbody><tr><td>37cpUoM8hlkSQfReIEBd-Q</td><td>Mike</td><td>12497</td></tr><tr><td>hizGc5W1tBHPghM5YKCAtg</td><td>Katie</td><td>3642</td></tr><tr><td>Hi10sGSZNxQH3NLyWSZ1oA</td><td>Fox</td><td>3493</td></tr><tr><td>JjXuiru1_ONzDkYVrHN0aw</td><td>Richard</td><td>3243</td></tr><tr><td>j14WgRoU_-2ZE1aw1dXrJg</td><td>Daniel</td><td>3138</td></tr><tr><td>VHdY6oG2JPVNjihWhOooAQ</td><td>Jessica</td><td>2627</td></tr><tr><td>iLjMdZi0Tm7DQxX1C1_2dg</td><td>Ruggy</td><td>2547</td></tr><tr><td>lt7bNHl-TXziny4FETu8nA</td><td>Megan</td><td>2451</td></tr><tr><td>fgwI3rYHOv1ipfVfCSx7pg</td><td>Emi</td><td>2424</td></tr><tr><td>ITa3vh5ERI90G_WP4SmGUQ</td><td>Peter</td><td>2388</td></tr></tbody></table></div>"
      ]
     },
     "metadata": {
      "application/vnd.databricks.v1+output": {
       "addedWidgets": {},
       "aggData": [],
       "aggError": "",
       "aggOverflow": false,
       "aggSchema": [],
       "aggSeriesLimitReached": false,
       "aggType": "",
       "arguments": {},
       "columnCustomDisplayInfos": {},
       "data": [
        [
         "37cpUoM8hlkSQfReIEBd-Q",
         "Mike",
         12497
        ],
        [
         "hizGc5W1tBHPghM5YKCAtg",
         "Katie",
         3642
        ],
        [
         "Hi10sGSZNxQH3NLyWSZ1oA",
         "Fox",
         3493
        ],
        [
         "JjXuiru1_ONzDkYVrHN0aw",
         "Richard",
         3243
        ],
        [
         "j14WgRoU_-2ZE1aw1dXrJg",
         "Daniel",
         3138
        ],
        [
         "VHdY6oG2JPVNjihWhOooAQ",
         "Jessica",
         2627
        ],
        [
         "iLjMdZi0Tm7DQxX1C1_2dg",
         "Ruggy",
         2547
        ],
        [
         "lt7bNHl-TXziny4FETu8nA",
         "Megan",
         2451
        ],
        [
         "fgwI3rYHOv1ipfVfCSx7pg",
         "Emi",
         2424
        ],
        [
         "ITa3vh5ERI90G_WP4SmGUQ",
         "Peter",
         2388
        ]
       ],
       "datasetInfos": [],
       "dbfsResultPath": null,
       "isJsonSchema": true,
       "metadata": {
        "dataframeName": "_sqldf",
        "executionCount": 19
       },
       "overflow": false,
       "plotOptions": {
        "customPlotOptions": {},
        "displayType": "table",
        "pivotAggregation": null,
        "pivotColumns": null,
        "xColumns": null,
        "yColumns": null
       },
       "removedWidgets": [],
       "schema": [
        {
         "metadata": "{}",
         "name": "user_id",
         "type": "\"string\""
        },
        {
         "metadata": "{}",
         "name": "name",
         "type": "\"string\""
        },
        {
         "metadata": "{}",
         "name": "fans",
         "type": "\"long\""
        }
       ],
       "type": "table"
      }
     },
     "output_type": "display_data"
    }
   ],
   "source": [
    "%sql\n",
    "select user_id, name, fans\n",
    "from user\n",
    "order by fans desc\n",
    "limit 10;"
   ]
  },
  {
   "cell_type": "markdown",
   "metadata": {},
   "source": [
    "##### Analyses `business` dataset"
   ]
  },
  {
   "cell_type": "markdown",
   "metadata": {},
   "source": [
    "Analyse top 10 categories by number of reviews"
   ]
  },
  {
   "cell_type": "code",
   "execution_count": null,
   "metadata": {
    "application/vnd.databricks.v1+cell": {
     "cellMetadata": {
      "byteLimit": 2048000,
      "rowLimit": 10000
     },
     "inputWidgets": {},
     "nuid": "24ef1122-0714-414f-bb28-6409502dd6b5",
     "showTitle": true,
     "title": "Analyse top 10 categories by number of reviews"
    }
   },
   "outputs": [
    {
     "data": {
      "text/html": [
       "<style scoped>\n",
       "  .table-result-container {\n",
       "    max-height: 300px;\n",
       "    overflow: auto;\n",
       "  }\n",
       "  table, th, td {\n",
       "    border: 1px solid black;\n",
       "    border-collapse: collapse;\n",
       "  }\n",
       "  th, td {\n",
       "    padding: 5px;\n",
       "  }\n",
       "  th {\n",
       "    text-align: left;\n",
       "  }\n",
       "</style><div class='table-result-container'><table class='table-result'><thead style='background-color: white'><tr><th>categories</th><th>total_review_count</th><th>rnk</th></tr></thead><tbody><tr><td>Beauty & Spas, Nail Salons</td><td>1012</td><td>1</td></tr><tr><td>Restaurants, Pizza</td><td>935</td><td>2</td></tr><tr><td>Nail Salons, Beauty & Spas</td><td>934</td><td>3</td></tr><tr><td>Pizza, Restaurants</td><td>823</td><td>4</td></tr><tr><td>Restaurants, Mexican</td><td>728</td><td>5</td></tr><tr><td>Restaurants, Chinese</td><td>708</td><td>6</td></tr><tr><td>Mexican, Restaurants</td><td>672</td><td>7</td></tr><tr><td>Chinese, Restaurants</td><td>651</td><td>8</td></tr><tr><td>Food, Coffee & Tea</td><td>508</td><td>9</td></tr><tr><td>Beauty & Spas, Hair Salons</td><td>493</td><td>10</td></tr></tbody></table></div>"
      ]
     },
     "metadata": {
      "application/vnd.databricks.v1+output": {
       "addedWidgets": {},
       "aggData": [],
       "aggError": "",
       "aggOverflow": false,
       "aggSchema": [],
       "aggSeriesLimitReached": false,
       "aggType": "",
       "arguments": {},
       "columnCustomDisplayInfos": {},
       "data": [
        [
         "Beauty & Spas, Nail Salons",
         1012,
         1
        ],
        [
         "Restaurants, Pizza",
         935,
         2
        ],
        [
         "Nail Salons, Beauty & Spas",
         934,
         3
        ],
        [
         "Pizza, Restaurants",
         823,
         4
        ],
        [
         "Restaurants, Mexican",
         728,
         5
        ],
        [
         "Restaurants, Chinese",
         708,
         6
        ],
        [
         "Mexican, Restaurants",
         672,
         7
        ],
        [
         "Chinese, Restaurants",
         651,
         8
        ],
        [
         "Food, Coffee & Tea",
         508,
         9
        ],
        [
         "Beauty & Spas, Hair Salons",
         493,
         10
        ]
       ],
       "datasetInfos": [],
       "dbfsResultPath": null,
       "isJsonSchema": true,
       "metadata": {},
       "overflow": false,
       "plotOptions": {
        "customPlotOptions": {},
        "displayType": "table",
        "pivotAggregation": null,
        "pivotColumns": null,
        "xColumns": null,
        "yColumns": null
       },
       "removedWidgets": [],
       "schema": [
        {
         "metadata": "{}",
         "name": "categories",
         "type": "\"string\""
        },
        {
         "metadata": "{}",
         "name": "total_review_count",
         "type": "\"long\""
        },
        {
         "metadata": "{}",
         "name": "rnk",
         "type": "\"integer\""
        }
       ],
       "type": "table"
      }
     },
     "output_type": "display_data"
    }
   ],
   "source": [
    "df_business_cat= df_business.groupBy(\"categories\").agg(f.count(\"review_count\").alias(\"total_review_count\"))\n",
    "df_top_categories = df_business_cat.withColumn(\"rnk\", f.row_number().over(Window.orderBy(f.col('total_review_count').desc())))\n",
    "df_top_categories = df_top_categories.filter(f.col('rnk') <= 10)\n",
    "display(df_top_categories)"
   ]
  },
  {
   "cell_type": "code",
   "execution_count": 1,
   "metadata": {},
   "outputs": [
    {
     "name": "stdout",
     "output_type": "stream",
     "text": [
      "Requirement already satisfied: pip in /Users/lbw1125/anaconda3/lib/python3.11/site-packages (23.2.1)\n",
      "Collecting install\n",
      "  Obtaining dependency information for install from https://files.pythonhosted.org/packages/4d/c8/8cbca135f9e167810756ea2bc34b028501936675fcbd7dadccf752fa4622/install-1.3.5-py3-none-any.whl.metadata\n",
      "  Downloading install-1.3.5-py3-none-any.whl.metadata (925 bytes)\n",
      "Requirement already satisfied: ipython in /Users/lbw1125/anaconda3/lib/python3.11/site-packages (8.15.0)\n",
      "Requirement already satisfied: backcall in /Users/lbw1125/anaconda3/lib/python3.11/site-packages (from ipython) (0.2.0)\n",
      "Requirement already satisfied: decorator in /Users/lbw1125/anaconda3/lib/python3.11/site-packages (from ipython) (5.1.1)\n",
      "Requirement already satisfied: jedi>=0.16 in /Users/lbw1125/anaconda3/lib/python3.11/site-packages (from ipython) (0.18.1)\n",
      "Requirement already satisfied: matplotlib-inline in /Users/lbw1125/anaconda3/lib/python3.11/site-packages (from ipython) (0.1.6)\n",
      "Requirement already satisfied: pickleshare in /Users/lbw1125/anaconda3/lib/python3.11/site-packages (from ipython) (0.7.5)\n",
      "Requirement already satisfied: prompt-toolkit!=3.0.37,<3.1.0,>=3.0.30 in /Users/lbw1125/anaconda3/lib/python3.11/site-packages (from ipython) (3.0.36)\n",
      "Requirement already satisfied: pygments>=2.4.0 in /Users/lbw1125/anaconda3/lib/python3.11/site-packages (from ipython) (2.15.1)\n",
      "Requirement already satisfied: stack-data in /Users/lbw1125/anaconda3/lib/python3.11/site-packages (from ipython) (0.2.0)\n",
      "Requirement already satisfied: traitlets>=5 in /Users/lbw1125/anaconda3/lib/python3.11/site-packages (from ipython) (5.7.1)\n",
      "Requirement already satisfied: pexpect>4.3 in /Users/lbw1125/anaconda3/lib/python3.11/site-packages (from ipython) (4.8.0)\n",
      "Requirement already satisfied: appnope in /Users/lbw1125/anaconda3/lib/python3.11/site-packages (from ipython) (0.1.2)\n",
      "Requirement already satisfied: parso<0.9.0,>=0.8.0 in /Users/lbw1125/anaconda3/lib/python3.11/site-packages (from jedi>=0.16->ipython) (0.8.3)\n",
      "Requirement already satisfied: ptyprocess>=0.5 in /Users/lbw1125/anaconda3/lib/python3.11/site-packages (from pexpect>4.3->ipython) (0.7.0)\n",
      "Requirement already satisfied: wcwidth in /Users/lbw1125/anaconda3/lib/python3.11/site-packages (from prompt-toolkit!=3.0.37,<3.1.0,>=3.0.30->ipython) (0.2.5)\n",
      "Requirement already satisfied: executing in /Users/lbw1125/anaconda3/lib/python3.11/site-packages (from stack-data->ipython) (0.8.3)\n",
      "Requirement already satisfied: asttokens in /Users/lbw1125/anaconda3/lib/python3.11/site-packages (from stack-data->ipython) (2.0.5)\n",
      "Requirement already satisfied: pure-eval in /Users/lbw1125/anaconda3/lib/python3.11/site-packages (from stack-data->ipython) (0.2.2)\n",
      "Requirement already satisfied: six in /Users/lbw1125/anaconda3/lib/python3.11/site-packages (from asttokens->stack-data->ipython) (1.16.0)\n",
      "Downloading install-1.3.5-py3-none-any.whl (3.2 kB)\n",
      "Installing collected packages: install\n",
      "Successfully installed install-1.3.5\n"
     ]
    }
   ],
   "source": [
    "!pip install pip install ipython"
   ]
  },
  {
   "cell_type": "code",
   "execution_count": 1,
   "metadata": {},
   "outputs": [
    {
     "data": {
      "image/png": "[encoded data removed]",
      "text/plain": [
       "<IPython.core.display.Image object>"
      ]
     },
     "execution_count": 1,
     "metadata": {},
     "output_type": "execute_result"
    }
   ],
   "source": [
    "from IPython.display import Image\n",
    "\n",
    "Image(filename='./image-1/visualization.png')\n"
   ]
  },
  {
   "cell_type": "markdown",
   "metadata": {},
   "source": [
    "We can also perform this using SQL"
   ]
  },
  {
   "cell_type": "code",
   "execution_count": null,
   "metadata": {
    "application/vnd.databricks.v1+cell": {
     "cellMetadata": {
      "byteLimit": 2048000,
      "rowLimit": 10000
     },
     "inputWidgets": {},
     "nuid": "508d610f-4c4f-4a4f-8a36-14ba3b92519f",
     "showTitle": false,
     "title": ""
    }
   },
   "outputs": [],
   "source": [
    "df_business.createOrReplaceTempView(\"business\")"
   ]
  },
  {
   "cell_type": "code",
   "execution_count": null,
   "metadata": {
    "application/vnd.databricks.v1+cell": {
     "cellMetadata": {
      "byteLimit": 2048000,
      "implicitDf": true,
      "rowLimit": 10000
     },
     "inputWidgets": {},
     "nuid": "a0e77000-d078-4297-b163-3e58ea06dd2c",
     "showTitle": false,
     "title": ""
    }
   },
   "outputs": [
    {
     "data": {
      "text/html": [
       "<style scoped>\n",
       "  .table-result-container {\n",
       "    max-height: 300px;\n",
       "    overflow: auto;\n",
       "  }\n",
       "  table, th, td {\n",
       "    border: 1px solid black;\n",
       "    border-collapse: collapse;\n",
       "  }\n",
       "  th, td {\n",
       "    padding: 5px;\n",
       "  }\n",
       "  th {\n",
       "    text-align: left;\n",
       "  }\n",
       "</style><div class='table-result-container'><table class='table-result'><thead style='background-color: white'><tr><th>categories</th><th>total_review_count</th></tr></thead><tbody><tr><td>Beauty & Spas, Nail Salons</td><td>1012</td></tr><tr><td>Restaurants, Pizza</td><td>935</td></tr><tr><td>Nail Salons, Beauty & Spas</td><td>934</td></tr><tr><td>Pizza, Restaurants</td><td>823</td></tr><tr><td>Restaurants, Mexican</td><td>728</td></tr><tr><td>Restaurants, Chinese</td><td>708</td></tr><tr><td>Mexican, Restaurants</td><td>672</td></tr><tr><td>Chinese, Restaurants</td><td>651</td></tr><tr><td>Food, Coffee & Tea</td><td>508</td></tr><tr><td>Beauty & Spas, Hair Salons</td><td>493</td></tr></tbody></table></div>"
      ]
     },
     "metadata": {
      "application/vnd.databricks.v1+output": {
       "addedWidgets": {},
       "aggData": [],
       "aggError": "",
       "aggOverflow": false,
       "aggSchema": [],
       "aggSeriesLimitReached": false,
       "aggType": "",
       "arguments": {},
       "columnCustomDisplayInfos": {},
       "data": [
        [
         "Beauty & Spas, Nail Salons",
         1012
        ],
        [
         "Restaurants, Pizza",
         935
        ],
        [
         "Nail Salons, Beauty & Spas",
         934
        ],
        [
         "Pizza, Restaurants",
         823
        ],
        [
         "Restaurants, Mexican",
         728
        ],
        [
         "Restaurants, Chinese",
         708
        ],
        [
         "Mexican, Restaurants",
         672
        ],
        [
         "Chinese, Restaurants",
         651
        ],
        [
         "Food, Coffee & Tea",
         508
        ],
        [
         "Beauty & Spas, Hair Salons",
         493
        ]
       ],
       "datasetInfos": [],
       "dbfsResultPath": null,
       "isJsonSchema": true,
       "metadata": {
        "dataframeName": "_sqldf",
        "executionCount": 23
       },
       "overflow": false,
       "plotOptions": {
        "customPlotOptions": {},
        "displayType": "table",
        "pivotAggregation": null,
        "pivotColumns": null,
        "xColumns": null,
        "yColumns": null
       },
       "removedWidgets": [],
       "schema": [
        {
         "metadata": "{}",
         "name": "categories",
         "type": "\"string\""
        },
        {
         "metadata": "{}",
         "name": "total_review_count",
         "type": "\"long\""
        }
       ],
       "type": "table"
      }
     },
     "output_type": "display_data"
    },
    {
     "data": {
      "text/plain": [
       "Databricks visualization. Run in Databricks to view."
      ]
     },
     "metadata": {
      "application/vnd.databricks.v1.subcommand+json": {
       "baseErrorDetails": null,
       "bindings": {},
       "collapsed": false,
       "command": "%sql WITH q AS (SELECT categories, total_review_count FROM (\n    SELECT business_categories.*, \n    ROW_NUMBER() OVER (ORDER BY total_review_count DESC) rn \n    FROM (SELECT categories, count(review_count) AS total_review_count FROM business GROUP BY categories) business_categories\n)\nWHERE rn <= 10) SELECT `categories`,SUM(`total_review_count`) `column_267425cf8` FROM q GROUP BY `categories`",
       "commandTitle": "Visualization 1",
       "commandType": "auto",
       "commandVersion": 0,
       "commentThread": [],
       "commentsVisible": false,
       "contentSha256Hex": null,
       "customPlotOptions": {
        "redashChart": [
         {
          "key": "type",
          "value": "CHART"
         },
         {
          "key": "options",
          "value": {
           "alignYAxesAtZero": true,
           "coefficient": 1,
           "columnConfigurationMap": {
            "x": {
             "column": "categories",
             "id": "column_267425cf7"
            },
            "y": [
             {
              "column": "total_review_count",
              "id": "column_267425cf8",
              "transform": "SUM"
             }
            ]
           },
           "dateTimeFormat": "DD/MM/YYYY HH:mm",
           "direction": {
            "type": "counterclockwise"
           },
           "error_y": {
            "type": "data",
            "visible": true
           },
           "globalSeriesType": "column",
           "isAggregationOn": true,
           "legend": {
            "traceorder": "normal"
           },
           "missingValuesAsZero": true,
           "numberFormat": "0,0.[00000]",
           "percentFormat": "0[.]00%",
           "series": {
            "error_y": {
             "type": "data",
             "visible": true
            },
            "stacking": null
           },
           "seriesOptions": {
            "column_267425cf8": {
             "name": "total_review_count",
             "yAxis": 0
            }
           },
           "showDataLabels": false,
           "sizemode": "diameter",
           "sortX": true,
           "sortY": true,
           "swappedAxes": true,
           "textFormat": "",
           "useAggregationsUi": true,
           "valuesOptions": {},
           "version": 2,
           "xAxis": {
            "labels": {
             "enabled": true
            },
            "type": "-"
           },
           "yAxis": [
            {
             "type": "-"
            },
            {
             "opposite": true,
             "type": "-"
            }
           ]
          }
         }
        ]
       },
       "datasetPreviewNameToCmdIdMap": {},
       "diffDeletes": [],
       "diffInserts": [],
       "displayType": "redashChart",
       "error": null,
       "errorDetails": null,
       "errorSummary": null,
       "errorTraceType": null,
       "finishTime": 0,
       "globalVars": {},
       "guid": "",
       "height": "auto",
       "hideCommandCode": false,
       "hideCommandResult": false,
       "iPythonMetadata": null,
       "inputWidgets": {},
       "isLockedInExamMode": false,
       "latestUser": "a user",
       "latestUserId": null,
       "listResultMetadata": null,
       "metadata": {},
       "nuid": "c81a234b-2d26-4b34-9272-1af9db5af811",
       "origId": 0,
       "parentHierarchy": [],
       "pivotAggregation": null,
       "pivotColumns": null,
       "position": 23,
       "resultDbfsErrorMessage": null,
       "resultDbfsStatus": "INLINED_IN_TREE",
       "results": null,
       "showCommandTitle": false,
       "startTime": 0,
       "state": "input",
       "streamStates": {},
       "subcommandOptions": {
        "queryPlan": {
         "groups": [
          {
           "column": "categories",
           "type": "column"
          }
         ],
         "selects": [
          {
           "column": "categories",
           "type": "column"
          },
          {
           "alias": "column_267425cf8",
           "args": [
            {
             "column": "total_review_count",
             "type": "column"
            }
           ],
           "function": "SUM",
           "type": "function"
          }
         ]
        }
       },
       "submitTime": 0,
       "subtype": "tableResultSubCmd.visualization",
       "tableResultIndex": 0,
       "useConsistentColors": false,
       "version": "CommandV1",
       "width": "auto",
       "workflows": [],
       "xColumns": null,
       "yColumns": null
      }
     },
     "output_type": "display_data"
    }
   ],
   "source": [
    "%sql\n",
    "SELECT categories, total_review_count FROM (\n",
    "    SELECT business_categories.*, \n",
    "    ROW_NUMBER() OVER (ORDER BY total_review_count DESC) AS rn \n",
    "    FROM (SELECT categories, count(review_count) AS total_review_count FROM business GROUP BY categories) business_categories\n",
    ")\n",
    "WHERE rn <= 10;"
   ]
  },
  {
   "cell_type": "markdown",
   "metadata": {},
   "source": [
    "Using CTE improves code readability."
   ]
  },
  {
   "cell_type": "code",
   "execution_count": null,
   "metadata": {},
   "outputs": [],
   "source": [
    "%sql\n",
    "WITH business_categories AS (\n",
    "    SELECT categories, COUNT(review_count) AS total_review_count\n",
    "    FROM df_business\n",
    "    GROUP BY categories\n",
    "),\n",
    "top_categories AS (\n",
    "    SELECT categories, total_review_count,\n",
    "           ROW_NUMBER() OVER (ORDER BY total_review_count DESC) AS rnk\n",
    "    FROM business_categories\n",
    ")\n",
    "SELECT categories, total_review_count\n",
    "FROM top_categories\n",
    "WHERE rnk <= 10;"
   ]
  },
  {
   "cell_type": "markdown",
   "metadata": {},
   "source": [
    "ROW_NUMBER() is a window function in SQL, used to assign a unique sequential number to each row in a query result set. \n",
    "It is typically used to sort rows in the result set and assign a ranking or sequence number to each row."
   ]
  },
  {
   "cell_type": "markdown",
   "metadata": {},
   "source": [
    "Analyse top business which have over 1000 reviews"
   ]
  },
  {
   "cell_type": "code",
   "execution_count": null,
   "metadata": {
    "application/vnd.databricks.v1+cell": {
     "cellMetadata": {
      "byteLimit": 2048000,
      "rowLimit": 10000
     },
     "inputWidgets": {},
     "nuid": "172b3cd2-6b16-4508-b0ee-ab7a62eea64e",
     "showTitle": true,
     "title": "Analyse top business which have over 1000 reviews"
    }
   },
   "outputs": [],
   "source": [
    "df_business_reviews = df_business.groupBy(\"categories\").agg(f.count(\"review_count\").alias(\"total_review_count\"))\n",
    "df_top_business = df_business_reviews.filter(df_business_reviews[\"total_review_count\"] >= 1000).orderBy(f.desc(\"total_review_count\"))"
   ]
  },
  {
   "cell_type": "code",
   "execution_count": null,
   "metadata": {
    "application/vnd.databricks.v1+cell": {
     "cellMetadata": {
      "byteLimit": 2048000,
      "rowLimit": 10000
     },
     "inputWidgets": {},
     "nuid": "5c84cb75-6312-47ea-bb3e-fc8b9d6238d0",
     "showTitle": false,
     "title": ""
    }
   },
   "outputs": [
    {
     "data": {
      "text/html": [
       "<style scoped>\n",
       "  .table-result-container {\n",
       "    max-height: 300px;\n",
       "    overflow: auto;\n",
       "  }\n",
       "  table, th, td {\n",
       "    border: 1px solid black;\n",
       "    border-collapse: collapse;\n",
       "  }\n",
       "  th, td {\n",
       "    padding: 5px;\n",
       "  }\n",
       "  th {\n",
       "    text-align: left;\n",
       "  }\n",
       "</style><div class='table-result-container'><table class='table-result'><thead style='background-color: white'><tr><th>categories</th><th>total_review_count</th></tr></thead><tbody><tr><td>Beauty & Spas, Nail Salons</td><td>1012</td></tr></tbody></table></div>"
      ]
     },
     "metadata": {
      "application/vnd.databricks.v1+output": {
       "addedWidgets": {},
       "aggData": [],
       "aggError": "",
       "aggOverflow": false,
       "aggSchema": [],
       "aggSeriesLimitReached": false,
       "aggType": "",
       "arguments": {},
       "columnCustomDisplayInfos": {},
       "data": [
        [
         "Beauty & Spas, Nail Salons",
         1012
        ]
       ],
       "datasetInfos": [],
       "dbfsResultPath": null,
       "isJsonSchema": true,
       "metadata": {},
       "overflow": false,
       "plotOptions": {
        "customPlotOptions": {},
        "displayType": "table",
        "pivotAggregation": null,
        "pivotColumns": null,
        "xColumns": null,
        "yColumns": null
       },
       "removedWidgets": [],
       "schema": [
        {
         "metadata": "{}",
         "name": "categories",
         "type": "\"string\""
        },
        {
         "metadata": "{}",
         "name": "total_review_count",
         "type": "\"long\""
        }
       ],
       "type": "table"
      }
     },
     "output_type": "display_data"
    }
   ],
   "source": [
    "display(df_top_business)"
   ]
  },
  {
   "cell_type": "markdown",
   "metadata": {},
   "source": [
    "SQL version"
   ]
  },
  {
   "cell_type": "code",
   "execution_count": null,
   "metadata": {},
   "outputs": [],
   "source": [
    "%sql\n",
    "SELECT categories, COUNT(review_count) AS total_review_count\n",
    "FROM df_business\n",
    "GROUP BY categories\n",
    "HAVING COUNT(review_count) >= 1000\n",
    "ORDER BY total_review_count DESC;"
   ]
  },
  {
   "cell_type": "markdown",
   "metadata": {},
   "source": [
    "Analyse Business Data: Number of restaurants per state"
   ]
  },
  {
   "cell_type": "code",
   "execution_count": null,
   "metadata": {
    "application/vnd.databricks.v1+cell": {
     "cellMetadata": {
      "byteLimit": 2048000,
      "rowLimit": 10000
     },
     "inputWidgets": {},
     "nuid": "0481ec6c-81f2-45d2-a387-dc5f563ddc8c",
     "showTitle": false,
     "title": ""
    }
   },
   "outputs": [
    {
     "data": {
      "text/html": [
       "<style scoped>\n",
       "  .table-result-container {\n",
       "    max-height: 300px;\n",
       "    overflow: auto;\n",
       "  }\n",
       "  table, th, td {\n",
       "    border: 1px solid black;\n",
       "    border-collapse: collapse;\n",
       "  }\n",
       "  th, td {\n",
       "    padding: 5px;\n",
       "  }\n",
       "  th {\n",
       "    text-align: left;\n",
       "  }\n",
       "</style><div class='table-result-container'><table class='table-result'><thead style='background-color: white'><tr><th>state</th><th>count</th></tr></thead><tbody><tr><td>PA</td><td>34039</td></tr><tr><td>FL</td><td>26330</td></tr><tr><td>TN</td><td>12056</td></tr><tr><td>IN</td><td>11247</td></tr><tr><td>MO</td><td>10913</td></tr><tr><td>LA</td><td>9924</td></tr><tr><td>AZ</td><td>9912</td></tr><tr><td>NJ</td><td>8536</td></tr><tr><td>NV</td><td>7715</td></tr><tr><td>AB</td><td>5573</td></tr><tr><td>CA</td><td>5203</td></tr><tr><td>ID</td><td>4467</td></tr><tr><td>DE</td><td>2265</td></tr><tr><td>IL</td><td>2145</td></tr><tr><td>TX</td><td>4</td></tr><tr><td>CO</td><td>3</td></tr><tr><td>MA</td><td>2</td></tr><tr><td>HI</td><td>2</td></tr><tr><td>WA</td><td>2</td></tr><tr><td>XMS</td><td>1</td></tr><tr><td>MI</td><td>1</td></tr><tr><td>SD</td><td>1</td></tr><tr><td>NC</td><td>1</td></tr><tr><td>UT</td><td>1</td></tr><tr><td>VT</td><td>1</td></tr><tr><td>MT</td><td>1</td></tr><tr><td>VI</td><td>1</td></tr></tbody></table></div>"
      ]
     },
     "metadata": {
      "application/vnd.databricks.v1+output": {
       "addedWidgets": {},
       "aggData": [],
       "aggError": "",
       "aggOverflow": false,
       "aggSchema": [],
       "aggSeriesLimitReached": false,
       "aggType": "",
       "arguments": {},
       "columnCustomDisplayInfos": {},
       "data": [
        [
         "PA",
         34039
        ],
        [
         "FL",
         26330
        ],
        [
         "TN",
         12056
        ],
        [
         "IN",
         11247
        ],
        [
         "MO",
         10913
        ],
        [
         "LA",
         9924
        ],
        [
         "AZ",
         9912
        ],
        [
         "NJ",
         8536
        ],
        [
         "NV",
         7715
        ],
        [
         "AB",
         5573
        ],
        [
         "CA",
         5203
        ],
        [
         "ID",
         4467
        ],
        [
         "DE",
         2265
        ],
        [
         "IL",
         2145
        ],
        [
         "TX",
         4
        ],
        [
         "CO",
         3
        ],
        [
         "MA",
         2
        ],
        [
         "HI",
         2
        ],
        [
         "WA",
         2
        ],
        [
         "XMS",
         1
        ],
        [
         "MI",
         1
        ],
        [
         "SD",
         1
        ],
        [
         "NC",
         1
        ],
        [
         "UT",
         1
        ],
        [
         "VT",
         1
        ],
        [
         "MT",
         1
        ],
        [
         "VI",
         1
        ]
       ],
       "datasetInfos": [],
       "dbfsResultPath": null,
       "isJsonSchema": true,
       "metadata": {},
       "overflow": false,
       "plotOptions": {
        "customPlotOptions": {},
        "displayType": "table",
        "pivotAggregation": null,
        "pivotColumns": null,
        "xColumns": null,
        "yColumns": null
       },
       "removedWidgets": [],
       "schema": [
        {
         "metadata": "{}",
         "name": "state",
         "type": "\"string\""
        },
        {
         "metadata": "{}",
         "name": "count",
         "type": "\"long\""
        }
       ],
       "type": "table"
      }
     },
     "output_type": "display_data"
    }
   ],
   "source": [
    "df_num_of_restaurants = df_business.select('state').groupBy('state').count().orderBy(f.desc(\"count\"))\n",
    "display(df_num_of_restaurants)"
   ]
  },
  {
   "cell_type": "markdown",
   "metadata": {},
   "source": [
    "SQL version"
   ]
  },
  {
   "cell_type": "code",
   "execution_count": null,
   "metadata": {},
   "outputs": [],
   "source": [
    "%sql\n",
    "SELECT state, COUNT(*) AS count\n",
    "FROM df_business\n",
    "GROUP BY state\n",
    "ORDER BY count DESC;"
   ]
  },
  {
   "cell_type": "markdown",
   "metadata": {},
   "source": [
    "Analyse top 3 restaurants in each state"
   ]
  },
  {
   "cell_type": "code",
   "execution_count": null,
   "metadata": {
    "application/vnd.databricks.v1+cell": {
     "cellMetadata": {
      "byteLimit": 2048000,
      "rowLimit": 10000
     },
     "inputWidgets": {},
     "nuid": "79fbb5e2-e8f8-4919-a5a6-81c4f7430587",
     "showTitle": false,
     "title": ""
    }
   },
   "outputs": [],
   "source": [
    "df_business.createOrReplaceTempView(\"business_restaurant\")"
   ]
  },
  {
   "cell_type": "code",
   "execution_count": null,
   "metadata": {
    "application/vnd.databricks.v1+cell": {
     "cellMetadata": {
      "byteLimit": 2048000,
      "implicitDf": true,
      "rowLimit": 10000
     },
     "inputWidgets": {},
     "nuid": "2dc99398-f6e7-4888-9795-dd6d6ac27e8c",
     "showTitle": false,
     "title": ""
    }
   },
   "outputs": [
    {
     "data": {
      "text/html": [
       "<style scoped>\n",
       "  .table-result-container {\n",
       "    max-height: 300px;\n",
       "    overflow: auto;\n",
       "  }\n",
       "  table, th, td {\n",
       "    border: 1px solid black;\n",
       "    border-collapse: collapse;\n",
       "  }\n",
       "  th, td {\n",
       "    padding: 5px;\n",
       "  }\n",
       "  th {\n",
       "    text-align: left;\n",
       "  }\n",
       "</style><div class='table-result-container'><table class='table-result'><thead style='background-color: white'><tr><th>STATE</th><th>name</th><th>review_count</th><th>rn</th></tr></thead><tbody><tr><td>AB</td><td>Duchess Bake Shop</td><td>486</td><td>1</td></tr><tr><td>AB</td><td>SugarBowl</td><td>435</td><td>2</td></tr><tr><td>AB</td><td>Tres Carnales Taqueria</td><td>429</td><td>3</td></tr><tr><td>AZ</td><td>Prep & Pastry</td><td>2126</td><td>1</td></tr><tr><td>AZ</td><td>El Charro Cafe</td><td>1583</td><td>2</td></tr><tr><td>AZ</td><td>Cafe Poca Cosa</td><td>1306</td><td>3</td></tr><tr><td>CA</td><td>Los Agaves</td><td>3834</td><td>1</td></tr><tr><td>CA</td><td>Brophy Bros - Santa Barbara</td><td>2940</td><td>2</td></tr><tr><td>CA</td><td>Boathouse at Hendry's Beach</td><td>2536</td><td>3</td></tr><tr><td>CO</td><td>Two Elk Restaurant</td><td>12</td><td>1</td></tr><tr><td>CO</td><td>Breeze Ski Rentals</td><td>10</td><td>2</td></tr><tr><td>CO</td><td>Travis Darnell Photography</td><td>8</td><td>3</td></tr><tr><td>DE</td><td>Border Cafe</td><td>742</td><td>1</td></tr><tr><td>DE</td><td>Iron Hill Brewery & Restaurant</td><td>512</td><td>2</td></tr><tr><td>DE</td><td>Big Fish Grill - Riverfront</td><td>456</td><td>3</td></tr><tr><td>FL</td><td>Datz</td><td>3260</td><td>1</td></tr><tr><td>FL</td><td>Ulele</td><td>3064</td><td>2</td></tr><tr><td>FL</td><td>Bern's Steak House</td><td>2924</td><td>3</td></tr><tr><td>HI</td><td>Cosmetic Solutions</td><td>17</td><td>1</td></tr><tr><td>HI</td><td>2 Sisters Photography</td><td>15</td><td>2</td></tr><tr><td>ID</td><td>Fork</td><td>1810</td><td>1</td></tr><tr><td>ID</td><td>Barbacoa Grill</td><td>1099</td><td>2</td></tr><tr><td>ID</td><td>Bittercreek Alehouse</td><td>998</td><td>3</td></tr><tr><td>IL</td><td>BEAST Craft BBQ</td><td>583</td><td>1</td></tr><tr><td>IL</td><td>Lotawata Creek Southern Grill</td><td>550</td><td>2</td></tr><tr><td>IL</td><td>Cleveland-Heath</td><td>455</td><td>3</td></tr><tr><td>IN</td><td>The Eagle</td><td>2233</td><td>1</td></tr><tr><td>IN</td><td>St. Elmo Steak House</td><td>2035</td><td>2</td></tr><tr><td>IN</td><td>Bakersfield</td><td>1642</td><td>3</td></tr><tr><td>LA</td><td>Acme Oyster House</td><td>7568</td><td>1</td></tr><tr><td>LA</td><td>Oceana Grill</td><td>7400</td><td>2</td></tr><tr><td>LA</td><td>Ruby Slipper - New Orleans</td><td>5193</td><td>3</td></tr><tr><td>MA</td><td>United Parcel Service</td><td>34</td><td>1</td></tr><tr><td>MA</td><td>YOCO Maids & Cleaning</td><td>9</td><td>2</td></tr><tr><td>MI</td><td>Mr Brakes</td><td>9</td><td>1</td></tr><tr><td>MO</td><td>Pappy's Smokehouse</td><td>3999</td><td>1</td></tr><tr><td>MO</td><td>Broadway Oyster Bar</td><td>2076</td><td>2</td></tr><tr><td>MO</td><td>Rooster - Downtown</td><td>1984</td><td>3</td></tr><tr><td>MT</td><td>MudMan Food Truck</td><td>6</td><td>1</td></tr><tr><td>NC</td><td>IHOP</td><td>29</td><td>1</td></tr><tr><td>NJ</td><td>The Farm and Fisherman Tavern</td><td>709</td><td>1</td></tr><tr><td>NJ</td><td>Dolsot House</td><td>665</td><td>2</td></tr><tr><td>NJ</td><td>The Jug Handle Inn</td><td>604</td><td>3</td></tr><tr><td>NV</td><td>Grand Sierra Resort and Casino</td><td>3345</td><td>1</td></tr><tr><td>NV</td><td>Peg's Glorified Ham N Eggs</td><td>2506</td><td>2</td></tr><tr><td>NV</td><td>Peppermill Reno</td><td>2486</td><td>3</td></tr><tr><td>PA</td><td>Reading Terminal Market</td><td>5721</td><td>1</td></tr><tr><td>PA</td><td>Pat's King of Steaks</td><td>4250</td><td>2</td></tr><tr><td>PA</td><td>Geno's Steaks</td><td>3401</td><td>3</td></tr><tr><td>SD</td><td>K Soho Salon</td><td>42</td><td>1</td></tr><tr><td>TN</td><td>Hattie B’s Hot Chicken - Nashville</td><td>6093</td><td>1</td></tr><tr><td>TN</td><td>Biscuit Love: Gulch</td><td>4207</td><td>2</td></tr><tr><td>TN</td><td>The Pharmacy</td><td>3054</td><td>3</td></tr><tr><td>TX</td><td>2400 Briarwest</td><td>12</td><td>1</td></tr><tr><td>TX</td><td>Wildlife Wonders</td><td>9</td><td>2</td></tr><tr><td>TX</td><td>Southern Luxe Beauty</td><td>7</td><td>3</td></tr><tr><td>UT</td><td>Find Your Zen</td><td>19</td><td>1</td></tr><tr><td>VI</td><td>The Moorings</td><td>10</td><td>1</td></tr><tr><td>VT</td><td>All Service Citgo</td><td>10</td><td>1</td></tr><tr><td>WA</td><td>Valvoline Instant Oil Change</td><td>13</td><td>1</td></tr><tr><td>WA</td><td>Suave Nails</td><td>6</td><td>2</td></tr><tr><td>XMS</td><td>Pumpernickles Catering</td><td>5</td><td>1</td></tr></tbody></table></div>"
      ]
     },
     "metadata": {
      "application/vnd.databricks.v1+output": {
       "addedWidgets": {},
       "aggData": [],
       "aggError": "",
       "aggOverflow": false,
       "aggSchema": [],
       "aggSeriesLimitReached": false,
       "aggType": "",
       "arguments": {},
       "columnCustomDisplayInfos": {},
       "data": [
        [
         "AB",
         "Duchess Bake Shop",
         486,
         1
        ],
        [
         "AB",
         "SugarBowl",
         435,
         2
        ],
        [
         "AB",
         "Tres Carnales Taqueria",
         429,
         3
        ],
        [
         "AZ",
         "Prep & Pastry",
         2126,
         1
        ],
        [
         "AZ",
         "El Charro Cafe",
         1583,
         2
        ],
        [
         "AZ",
         "Cafe Poca Cosa",
         1306,
         3
        ],
        [
         "CA",
         "Los Agaves",
         3834,
         1
        ],
        [
         "CA",
         "Brophy Bros - Santa Barbara",
         2940,
         2
        ],
        [
         "CA",
         "Boathouse at Hendry's Beach",
         2536,
         3
        ],
        [
         "CO",
         "Two Elk Restaurant",
         12,
         1
        ],
        [
         "CO",
         "Breeze Ski Rentals",
         10,
         2
        ],
        [
         "CO",
         "Travis Darnell Photography",
         8,
         3
        ],
        [
         "DE",
         "Border Cafe",
         742,
         1
        ],
        [
         "DE",
         "Iron Hill Brewery & Restaurant",
         512,
         2
        ],
        [
         "DE",
         "Big Fish Grill - Riverfront",
         456,
         3
        ],
        [
         "FL",
         "Datz",
         3260,
         1
        ],
        [
         "FL",
         "Ulele",
         3064,
         2
        ],
        [
         "FL",
         "Bern's Steak House",
         2924,
         3
        ],
        [
         "HI",
         "Cosmetic Solutions",
         17,
         1
        ],
        [
         "HI",
         "2 Sisters Photography",
         15,
         2
        ],
        [
         "ID",
         "Fork",
         1810,
         1
        ],
        [
         "ID",
         "Barbacoa Grill",
         1099,
         2
        ],
        [
         "ID",
         "Bittercreek Alehouse",
         998,
         3
        ],
        [
         "IL",
         "BEAST Craft BBQ",
         583,
         1
        ],
        [
         "IL",
         "Lotawata Creek Southern Grill",
         550,
         2
        ],
        [
         "IL",
         "Cleveland-Heath",
         455,
         3
        ],
        [
         "IN",
         "The Eagle",
         2233,
         1
        ],
        [
         "IN",
         "St. Elmo Steak House",
         2035,
         2
        ],
        [
         "IN",
         "Bakersfield",
         1642,
         3
        ],
        [
         "LA",
         "Acme Oyster House",
         7568,
         1
        ],
        [
         "LA",
         "Oceana Grill",
         7400,
         2
        ],
        [
         "LA",
         "Ruby Slipper - New Orleans",
         5193,
         3
        ],
        [
         "MA",
         "United Parcel Service",
         34,
         1
        ],
        [
         "MA",
         "YOCO Maids & Cleaning",
         9,
         2
        ],
        [
         "MI",
         "Mr Brakes",
         9,
         1
        ],
        [
         "MO",
         "Pappy's Smokehouse",
         3999,
         1
        ],
        [
         "MO",
         "Broadway Oyster Bar",
         2076,
         2
        ],
        [
         "MO",
         "Rooster - Downtown",
         1984,
         3
        ],
        [
         "MT",
         "MudMan Food Truck",
         6,
         1
        ],
        [
         "NC",
         "IHOP",
         29,
         1
        ],
        [
         "NJ",
         "The Farm and Fisherman Tavern",
         709,
         1
        ],
        [
         "NJ",
         "Dolsot House",
         665,
         2
        ],
        [
         "NJ",
         "The Jug Handle Inn",
         604,
         3
        ],
        [
         "NV",
         "Grand Sierra Resort and Casino",
         3345,
         1
        ],
        [
         "NV",
         "Peg's Glorified Ham N Eggs",
         2506,
         2
        ],
        [
         "NV",
         "Peppermill Reno",
         2486,
         3
        ],
        [
         "PA",
         "Reading Terminal Market",
         5721,
         1
        ],
        [
         "PA",
         "Pat's King of Steaks",
         4250,
         2
        ],
        [
         "PA",
         "Geno's Steaks",
         3401,
         3
        ],
        [
         "SD",
         "K Soho Salon",
         42,
         1
        ],
        [
         "TN",
         "Hattie B’s Hot Chicken - Nashville",
         6093,
         1
        ],
        [
         "TN",
         "Biscuit Love: Gulch",
         4207,
         2
        ],
        [
         "TN",
         "The Pharmacy",
         3054,
         3
        ],
        [
         "TX",
         "2400 Briarwest",
         12,
         1
        ],
        [
         "TX",
         "Wildlife Wonders",
         9,
         2
        ],
        [
         "TX",
         "Southern Luxe Beauty",
         7,
         3
        ],
        [
         "UT",
         "Find Your Zen",
         19,
         1
        ],
        [
         "VI",
         "The Moorings",
         10,
         1
        ],
        [
         "VT",
         "All Service Citgo",
         10,
         1
        ],
        [
         "WA",
         "Valvoline Instant Oil Change",
         13,
         1
        ],
        [
         "WA",
         "Suave Nails",
         6,
         2
        ],
        [
         "XMS",
         "Pumpernickles Catering",
         5,
         1
        ]
       ],
       "datasetInfos": [],
       "dbfsResultPath": null,
       "isJsonSchema": true,
       "metadata": {
        "dataframeName": "_sqldf",
        "executionCount": 28
       },
       "overflow": false,
       "plotOptions": {
        "customPlotOptions": {},
        "displayType": "table",
        "pivotAggregation": null,
        "pivotColumns": null,
        "xColumns": null,
        "yColumns": null
       },
       "removedWidgets": [],
       "schema": [
        {
         "metadata": "{}",
         "name": "STATE",
         "type": "\"string\""
        },
        {
         "metadata": "{}",
         "name": "name",
         "type": "\"string\""
        },
        {
         "metadata": "{}",
         "name": "review_count",
         "type": "\"long\""
        },
        {
         "metadata": "{}",
         "name": "rn",
         "type": "\"integer\""
        }
       ],
       "type": "table"
      }
     },
     "output_type": "display_data"
    }
   ],
   "source": [
    "%sql\n",
    "SELECT * FROM (\n",
    "    SELECT STATE,name,review_count,\n",
    "    ROW_NUMBER() OVER ( PARTITION BY STATE ORDER BY review_count DESC) rn \n",
    "    FROM business_restaurant\n",
    ")\n",
    "WHERE rn <= 3"
   ]
  },
  {
   "cell_type": "markdown",
   "metadata": {},
   "source": [
    "List the top restaurants in a state by the number of reviews"
   ]
  },
  {
   "cell_type": "code",
   "execution_count": null,
   "metadata": {
    "application/vnd.databricks.v1+cell": {
     "cellMetadata": {
      "byteLimit": 2048000,
      "rowLimit": 10000
     },
     "inputWidgets": {},
     "nuid": "7d82bbbd-477c-4212-a7f9-d2cd9965a632",
     "showTitle": false,
     "title": ""
    }
   },
   "outputs": [
    {
     "data": {
      "text/html": [
       "<style scoped>\n",
       "  .table-result-container {\n",
       "    max-height: 300px;\n",
       "    overflow: auto;\n",
       "  }\n",
       "  table, th, td {\n",
       "    border: 1px solid black;\n",
       "    border-collapse: collapse;\n",
       "  }\n",
       "  th, td {\n",
       "    padding: 5px;\n",
       "  }\n",
       "  th {\n",
       "    text-align: left;\n",
       "  }\n",
       "</style><div class='table-result-container'><table class='table-result'><thead style='background-color: white'><tr><th>name</th><th>total_review_count</th><th>rank</th></tr></thead><tbody><tr><td>Starbucks</td><td>63</td><td>1</td></tr><tr><td>Subway</td><td>50</td><td>2</td></tr><tr><td>Walgreens</td><td>44</td><td>3</td></tr><tr><td>McDonald's</td><td>41</td><td>4</td></tr><tr><td>eegee's</td><td>27</td><td>5</td></tr><tr><td>The UPS Store</td><td>26</td><td>6</td></tr><tr><td>Circle K</td><td>24</td><td>7</td></tr><tr><td>Burger King</td><td>23</td><td>8</td></tr><tr><td>Taco Bell</td><td>22</td><td>9</td></tr><tr><td>Supercuts</td><td>21</td><td>10</td></tr></tbody></table></div>"
      ]
     },
     "metadata": {
      "application/vnd.databricks.v1+output": {
       "addedWidgets": {},
       "aggData": [],
       "aggError": "",
       "aggOverflow": false,
       "aggSchema": [],
       "aggSeriesLimitReached": false,
       "aggType": "",
       "arguments": {},
       "columnCustomDisplayInfos": {},
       "data": [
        [
         "Starbucks",
         63,
         1
        ],
        [
         "Subway",
         50,
         2
        ],
        [
         "Walgreens",
         44,
         3
        ],
        [
         "McDonald's",
         41,
         4
        ],
        [
         "eegee's",
         27,
         5
        ],
        [
         "The UPS Store",
         26,
         6
        ],
        [
         "Circle K",
         24,
         7
        ],
        [
         "Burger King",
         23,
         8
        ],
        [
         "Taco Bell",
         22,
         9
        ],
        [
         "Supercuts",
         21,
         10
        ]
       ],
       "datasetInfos": [],
       "dbfsResultPath": null,
       "isJsonSchema": true,
       "metadata": {},
       "overflow": false,
       "plotOptions": {
        "customPlotOptions": {},
        "displayType": "table",
        "pivotAggregation": null,
        "pivotColumns": null,
        "xColumns": null,
        "yColumns": null
       },
       "removedWidgets": [],
       "schema": [
        {
         "metadata": "{}",
         "name": "name",
         "type": "\"string\""
        },
        {
         "metadata": "{}",
         "name": "total_review_count",
         "type": "\"long\""
        },
        {
         "metadata": "{}",
         "name": "rank",
         "type": "\"integer\""
        }
       ],
       "type": "table"
      }
     },
     "output_type": "display_data"
    }
   ],
   "source": [
    "df_business_Arizona = df_business.filter(df_business['state']=='AZ')\n",
    "df_Arizona = df_business_Arizona.groupBy(\"name\").agg(f.count(\"review_count\").alias(\"total_review_count\"))\n",
    "window = Window.orderBy(df_Arizona['total_review_count'].desc())\n",
    "df_Arizona_best_rest = df_Arizona.select('*', f.rank().over(window).alias('rank')).filter(f.col('rank') <= 10)\n",
    "display(df_Arizona_best_rest)"
   ]
  },
  {
   "cell_type": "markdown",
   "metadata": {},
   "source": [
    "SQL version"
   ]
  },
  {
   "cell_type": "code",
   "execution_count": null,
   "metadata": {},
   "outputs": [],
   "source": [
    "%sql\n",
    "WITH Arizona_business AS (\n",
    "    SELECT name, COUNT(review_count) AS total_review_count\n",
    "    FROM df_business\n",
    "    WHERE state = 'AZ'\n",
    "    GROUP BY name\n",
    "),\n",
    "Ranked_Arizona_business AS (\n",
    "    SELECT name, total_review_count,\n",
    "           RANK() OVER (ORDER BY total_review_count DESC) AS rank\n",
    "    FROM Arizona_business\n",
    ")\n",
    "SELECT *\n",
    "FROM Ranked_Arizona_business\n",
    "WHERE rank <= 10;"
   ]
  },
  {
   "cell_type": "markdown",
   "metadata": {},
   "source": [
    "Numbers of restruans in Arizona state per city"
   ]
  },
  {
   "cell_type": "code",
   "execution_count": null,
   "metadata": {
    "application/vnd.databricks.v1+cell": {
     "cellMetadata": {
      "byteLimit": 2048000,
      "rowLimit": 10000
     },
     "inputWidgets": {},
     "nuid": "7464ff56-2bc5-4e5f-a745-a77ca9211b9c",
     "showTitle": false,
     "title": ""
    }
   },
   "outputs": [],
   "source": [
    "df_business_Arizona = df_business.filter(df_business['state']=='AZ')\n",
    "df_business_Arizona = df_business_Arizona.groupBy('city').count().orderBy(f.desc(\"count\"))"
   ]
  },
  {
   "cell_type": "code",
   "execution_count": null,
   "metadata": {
    "application/vnd.databricks.v1+cell": {
     "cellMetadata": {
      "byteLimit": 2048000,
      "rowLimit": 10000
     },
     "inputWidgets": {},
     "nuid": "0e107553-1759-4502-80ff-e09a1fe056e3",
     "showTitle": false,
     "title": ""
    }
   },
   "outputs": [
    {
     "data": {
      "text/html": [
       "<style scoped>\n",
       "  .table-result-container {\n",
       "    max-height: 300px;\n",
       "    overflow: auto;\n",
       "  }\n",
       "  table, th, td {\n",
       "    border: 1px solid black;\n",
       "    border-collapse: collapse;\n",
       "  }\n",
       "  th, td {\n",
       "    padding: 5px;\n",
       "  }\n",
       "  th {\n",
       "    text-align: left;\n",
       "  }\n",
       "</style><div class='table-result-container'><table class='table-result'><thead style='background-color: white'><tr><th>city</th><th>count</th></tr></thead><tbody><tr><td>Tucson</td><td>9249</td></tr><tr><td>Oro Valley</td><td>286</td></tr><tr><td>Marana</td><td>102</td></tr><tr><td>Green Valley</td><td>69</td></tr><tr><td>Sahuarita</td><td>69</td></tr><tr><td>Vail</td><td>51</td></tr><tr><td>Tuscon</td><td>18</td></tr><tr><td>Catalina</td><td>13</td></tr><tr><td>Mount Lemmon</td><td>7</td></tr><tr><td>TUCSON</td><td>6</td></tr><tr><td>tucson</td><td>4</td></tr><tr><td>Casas Adobes</td><td>4</td></tr><tr><td>South Tucson</td><td>3</td></tr><tr><td>Corona de Tucson</td><td>3</td></tr><tr><td>Cortaro</td><td>3</td></tr><tr><td>Catalina Foothills</td><td>2</td></tr><tr><td>Tucson, Arizona</td><td>2</td></tr><tr><td>Corona De Tucson</td><td>2</td></tr><tr><td>Oracle</td><td>2</td></tr><tr><td>Tucson </td><td>2</td></tr><tr><td>Rillito</td><td>2</td></tr><tr><td>Picture Rocks</td><td>1</td></tr><tr><td>Oro valley</td><td>1</td></tr><tr><td>Drexel Heights</td><td>1</td></tr><tr><td>Tuson</td><td>1</td></tr><tr><td>Arizona</td><td>1</td></tr><tr><td>Santa Rita</td><td>1</td></tr><tr><td>Los Ranchitos</td><td>1</td></tr><tr><td>Valencia West</td><td>1</td></tr><tr><td>Summerhaven</td><td>1</td></tr><tr><td>Casa Adobes</td><td>1</td></tr><tr><td>TUCSON AP</td><td>1</td></tr><tr><td>Maran</td><td>1</td></tr><tr><td>Green Valle</td><td>1</td></tr></tbody></table></div>"
      ]
     },
     "metadata": {
      "application/vnd.databricks.v1+output": {
       "addedWidgets": {},
       "aggData": [],
       "aggError": "",
       "aggOverflow": false,
       "aggSchema": [],
       "aggSeriesLimitReached": false,
       "aggType": "",
       "arguments": {},
       "columnCustomDisplayInfos": {},
       "data": [
        [
         "Tucson",
         9249
        ],
        [
         "Oro Valley",
         286
        ],
        [
         "Marana",
         102
        ],
        [
         "Green Valley",
         69
        ],
        [
         "Sahuarita",
         69
        ],
        [
         "Vail",
         51
        ],
        [
         "Tuscon",
         18
        ],
        [
         "Catalina",
         13
        ],
        [
         "Mount Lemmon",
         7
        ],
        [
         "TUCSON",
         6
        ],
        [
         "tucson",
         4
        ],
        [
         "Casas Adobes",
         4
        ],
        [
         "South Tucson",
         3
        ],
        [
         "Corona de Tucson",
         3
        ],
        [
         "Cortaro",
         3
        ],
        [
         "Catalina Foothills",
         2
        ],
        [
         "Tucson, Arizona",
         2
        ],
        [
         "Corona De Tucson",
         2
        ],
        [
         "Oracle",
         2
        ],
        [
         "Tucson ",
         2
        ],
        [
         "Rillito",
         2
        ],
        [
         "Picture Rocks",
         1
        ],
        [
         "Oro valley",
         1
        ],
        [
         "Drexel Heights",
         1
        ],
        [
         "Tuson",
         1
        ],
        [
         "Arizona",
         1
        ],
        [
         "Santa Rita",
         1
        ],
        [
         "Los Ranchitos",
         1
        ],
        [
         "Valencia West",
         1
        ],
        [
         "Summerhaven",
         1
        ],
        [
         "Casa Adobes",
         1
        ],
        [
         "TUCSON AP",
         1
        ],
        [
         "Maran",
         1
        ],
        [
         "Green Valle",
         1
        ]
       ],
       "datasetInfos": [],
       "dbfsResultPath": null,
       "isJsonSchema": true,
       "metadata": {},
       "overflow": false,
       "plotOptions": {
        "customPlotOptions": {},
        "displayType": "table",
        "pivotAggregation": null,
        "pivotColumns": null,
        "xColumns": null,
        "yColumns": null
       },
       "removedWidgets": [],
       "schema": [
        {
         "metadata": "{}",
         "name": "city",
         "type": "\"string\""
        },
        {
         "metadata": "{}",
         "name": "count",
         "type": "\"long\""
        }
       ],
       "type": "table"
      }
     },
     "output_type": "display_data"
    }
   ],
   "source": [
    "#Visualise number of restaurants in Arizona City, city Phoneix can be visualised from here that is having maximum number of restaurants\n",
    "display(df_business_Arizona)"
   ]
  },
  {
   "cell_type": "markdown",
   "metadata": {},
   "source": [
    "SQL version"
   ]
  },
  {
   "cell_type": "code",
   "execution_count": null,
   "metadata": {},
   "outputs": [],
   "source": [
    "%sql\n",
    "SELECT city, COUNT(*) AS count\n",
    "FROM df_business\n",
    "WHERE state = 'AZ'\n",
    "GROUP BY city\n",
    "ORDER BY count DESC;"
   ]
  },
  {
   "cell_type": "markdown",
   "metadata": {},
   "source": [
    "Select City with highest number of restaurants"
   ]
  },
  {
   "cell_type": "code",
   "execution_count": null,
   "metadata": {
    "application/vnd.databricks.v1+cell": {
     "cellMetadata": {
      "byteLimit": 2048000,
      "rowLimit": 10000
     },
     "inputWidgets": {},
     "nuid": "7a30b0e4-adb8-4267-9154-32829f0d89b5",
     "showTitle": false,
     "title": ""
    }
   },
   "outputs": [
    {
     "data": {
      "text/html": [
       "<style scoped>\n",
       "  .table-result-container {\n",
       "    max-height: 300px;\n",
       "    overflow: auto;\n",
       "  }\n",
       "  table, th, td {\n",
       "    border: 1px solid black;\n",
       "    border-collapse: collapse;\n",
       "  }\n",
       "  th, td {\n",
       "    padding: 5px;\n",
       "  }\n",
       "  th {\n",
       "    text-align: left;\n",
       "  }\n",
       "</style><div class='table-result-container'><table class='table-result'><thead style='background-color: white'><tr><th>city</th><th>count</th></tr></thead><tbody><tr><td>Tucson</td><td>9249</td></tr></tbody></table></div>"
      ]
     },
     "metadata": {
      "application/vnd.databricks.v1+output": {
       "addedWidgets": {},
       "aggData": [],
       "aggError": "",
       "aggOverflow": false,
       "aggSchema": [],
       "aggSeriesLimitReached": false,
       "aggType": "",
       "arguments": {},
       "columnCustomDisplayInfos": {},
       "data": [
        [
         "Tucson",
         9249
        ]
       ],
       "datasetInfos": [],
       "dbfsResultPath": null,
       "isJsonSchema": true,
       "metadata": {},
       "overflow": false,
       "plotOptions": {
        "customPlotOptions": {},
        "displayType": "table",
        "pivotAggregation": null,
        "pivotColumns": null,
        "xColumns": null,
        "yColumns": null
       },
       "removedWidgets": [],
       "schema": [
        {
         "metadata": "{}",
         "name": "city",
         "type": "\"string\""
        },
        {
         "metadata": "{}",
         "name": "count",
         "type": "\"long\""
        }
       ],
       "type": "table"
      }
     },
     "output_type": "display_data"
    }
   ],
   "source": [
    "window = Window.orderBy(df_business_Arizona['count'].desc())\n",
    "city_with_max_rest = df_business_Arizona \\\n",
    "                    .select('*', f.rank().over(window).alias('rank')).filter(f.col('rank') <= 1) \\\n",
    "                    .drop('rank')\n",
    "display(city_with_max_rest)"
   ]
  },
  {
   "cell_type": "markdown",
   "metadata": {},
   "source": [
    "SQL version"
   ]
  },
  {
   "cell_type": "code",
   "execution_count": null,
   "metadata": {},
   "outputs": [],
   "source": [
    "%sql\n",
    "WITH Ranked_city_with_max_rest AS (\n",
    "    SELECT *, RANK() OVER (ORDER BY count DESC) AS rank\n",
    "    FROM (\n",
    "        SELECT city, COUNT(*) AS count\n",
    "        FROM df_business\n",
    "        WHERE state = 'AZ'\n",
    "        GROUP BY city\n",
    "    ) AS city_counts\n",
    ")\n",
    "SELECT city, count\n",
    "FROM Ranked_city_with_max_rest\n",
    "WHERE rank <= 1;"
   ]
  },
  {
   "cell_type": "markdown",
   "metadata": {},
   "source": [
    "We don't use 'LIMIT' here because 'LIMIT' cannot handle cases with the same values well."
   ]
  },
  {
   "cell_type": "markdown",
   "metadata": {},
   "source": [
    "Broadcast join"
   ]
  },
  {
   "cell_type": "code",
   "execution_count": null,
   "metadata": {
    "application/vnd.databricks.v1+cell": {
     "cellMetadata": {
      "byteLimit": 2048000,
      "rowLimit": 10000
     },
     "inputWidgets": {},
     "nuid": "5ad09ff9-ebf5-42fe-a026-8d9d4bd6d0d3",
     "showTitle": false,
     "title": ""
    }
   },
   "outputs": [],
   "source": [
    "from pyspark.sql.functions import broadcast\n",
    "\n",
    "# Join arizona city dataset with business datasets to get more details\n",
    "df_best_restaurants = df_business.join(broadcast(city_with_max_rest),\"city\", 'inner')\n",
    "df_best_restaurants = df_best_restaurants.groupBy(\"name\",\"stars\").agg(f.count(\"review_count\").alias(\"review_count\"))\n",
    "df_best_restaurants = df_best_restaurants.filter(df_best_restaurants[\"review_count\"] >= 10)\n",
    "df_best_restaurants = df_best_restaurants.filter(df_best_restaurants[\"stars\"] >= 3)"
   ]
  },
  {
   "cell_type": "markdown",
   "metadata": {},
   "source": [
    "Broadcast Join is an optimization technique used to improve the performance of join operations when dealing with large datasets."
   ]
  },
  {
   "cell_type": "code",
   "execution_count": null,
   "metadata": {
    "application/vnd.databricks.v1+cell": {
     "cellMetadata": {
      "byteLimit": 2048000,
      "rowLimit": 10000
     },
     "inputWidgets": {},
     "nuid": "60804fa0-b48e-4b63-93f2-af9f60a6a305",
     "showTitle": false,
     "title": ""
    }
   },
   "outputs": [
    {
     "data": {
      "text/html": [
       "<style scoped>\n",
       "  .table-result-container {\n",
       "    max-height: 300px;\n",
       "    overflow: auto;\n",
       "  }\n",
       "  table, th, td {\n",
       "    border: 1px solid black;\n",
       "    border-collapse: collapse;\n",
       "  }\n",
       "  th, td {\n",
       "    padding: 5px;\n",
       "  }\n",
       "  th {\n",
       "    text-align: left;\n",
       "  }\n",
       "</style><div class='table-result-container'><table class='table-result'><thead style='background-color: white'><tr><th>name</th><th>stars</th><th>review_count</th></tr></thead><tbody><tr><td>Starbucks</td><td>3.5</td><td>15</td></tr><tr><td>eegee's</td><td>3.5</td><td>12</td></tr><tr><td>eegee's</td><td>3.0</td><td>10</td></tr><tr><td>Walgreens</td><td>3.0</td><td>10</td></tr><tr><td>Subway</td><td>3.5</td><td>12</td></tr><tr><td>Subway</td><td>3.0</td><td>13</td></tr><tr><td>Starbucks</td><td>3.0</td><td>13</td></tr><tr><td>Starbucks</td><td>4.0</td><td>13</td></tr></tbody></table></div>"
      ]
     },
     "metadata": {
      "application/vnd.databricks.v1+output": {
       "addedWidgets": {},
       "aggData": [],
       "aggError": "",
       "aggOverflow": false,
       "aggSchema": [],
       "aggSeriesLimitReached": false,
       "aggType": "",
       "arguments": {},
       "columnCustomDisplayInfos": {},
       "data": [
        [
         "Starbucks",
         3.5,
         15
        ],
        [
         "eegee's",
         3.5,
         12
        ],
        [
         "eegee's",
         3,
         10
        ],
        [
         "Walgreens",
         3,
         10
        ],
        [
         "Subway",
         3.5,
         12
        ],
        [
         "Subway",
         3,
         13
        ],
        [
         "Starbucks",
         3,
         13
        ],
        [
         "Starbucks",
         4,
         13
        ]
       ],
       "datasetInfos": [],
       "dbfsResultPath": null,
       "isJsonSchema": true,
       "metadata": {},
       "overflow": false,
       "plotOptions": {
        "customPlotOptions": {},
        "displayType": "table",
        "pivotAggregation": null,
        "pivotColumns": null,
        "xColumns": null,
        "yColumns": null
       },
       "removedWidgets": [],
       "schema": [
        {
         "metadata": "{}",
         "name": "name",
         "type": "\"string\""
        },
        {
         "metadata": "{}",
         "name": "stars",
         "type": "\"double\""
        },
        {
         "metadata": "{}",
         "name": "review_count",
         "type": "\"long\""
        }
       ],
       "type": "table"
      }
     },
     "output_type": "display_data"
    }
   ],
   "source": [
    "#Visualize restaurants as per review ratings in Pheonix city\n",
    "display(df_best_restaurants)"
   ]
  },
  {
   "cell_type": "markdown",
   "metadata": {},
   "source": [
    "SQL version"
   ]
  },
  {
   "cell_type": "code",
   "execution_count": null,
   "metadata": {},
   "outputs": [],
   "source": [
    "%sql\n",
    "WITH Best_Restaurants AS (\n",
    "    SELECT b.name, b.stars, COUNT(b.review_count) AS review_count\n",
    "    FROM df_business b\n",
    "    JOIN city_with_max_rest c ON b.city = c.city\n",
    "    GROUP BY b.name, b.stars\n",
    ")\n",
    "SELECT *\n",
    "FROM Best_Restaurants\n",
    "WHERE review_count >= 10 AND stars >= 3;"
   ]
  },
  {
   "cell_type": "markdown",
   "metadata": {},
   "source": [
    "Most rated Italian restaurant in Pheonix"
   ]
  },
  {
   "cell_type": "code",
   "execution_count": null,
   "metadata": {
    "application/vnd.databricks.v1+cell": {
     "cellMetadata": {
      "byteLimit": 2048000,
      "rowLimit": 10000
     },
     "inputWidgets": {},
     "nuid": "e9d473e1-67f8-44a1-b321-7a3fb0df3e9d",
     "showTitle": false,
     "title": ""
    }
   },
   "outputs": [
    {
     "data": {
      "text/html": [
       "<style scoped>\n",
       "  .table-result-container {\n",
       "    max-height: 300px;\n",
       "    overflow: auto;\n",
       "  }\n",
       "  table, th, td {\n",
       "    border: 1px solid black;\n",
       "    border-collapse: collapse;\n",
       "  }\n",
       "  th, td {\n",
       "    padding: 5px;\n",
       "  }\n",
       "  th {\n",
       "    text-align: left;\n",
       "  }\n",
       "</style><div class='table-result-container'><table class='table-result'><thead style='background-color: white'><tr><th>name</th><th>review_count</th></tr></thead><tbody></tbody></table></div>"
      ]
     },
     "metadata": {
      "application/vnd.databricks.v1+output": {
       "addedWidgets": {},
       "aggData": [],
       "aggError": "",
       "aggOverflow": false,
       "aggSchema": [],
       "aggSeriesLimitReached": false,
       "aggType": "",
       "arguments": {},
       "columnCustomDisplayInfos": {},
       "data": [],
       "datasetInfos": [],
       "dbfsResultPath": null,
       "isJsonSchema": true,
       "metadata": {},
       "overflow": false,
       "plotOptions": {
        "customPlotOptions": {},
        "displayType": "table",
        "pivotAggregation": null,
        "pivotColumns": null,
        "xColumns": null,
        "yColumns": null
       },
       "removedWidgets": [],
       "schema": [
        {
         "metadata": "{}",
         "name": "name",
         "type": "\"string\""
        },
        {
         "metadata": "{}",
         "name": "review_count",
         "type": "\"long\""
        }
       ],
       "type": "table"
      }
     },
     "output_type": "display_data"
    }
   ],
   "source": [
    "df_business_Pheonix = df_business.filter(df_business.city == 'Phoenix')\n",
    "df_business_italian = df_business_Pheonix.filter(df_business.categories.contains('Italian'))\n",
    "df_best_italian_restaurants = df_business_italian.groupBy(\"name\").agg(f.count(\"review_count\").alias(\"review_count\"))\n",
    "\n",
    "df_best_italian_restaurants = df_best_italian_restaurants.filter(df_best_italian_restaurants[\"review_count\"] >= 5)\n",
    "display(df_best_italian_restaurants)"
   ]
  },
  {
   "cell_type": "code",
   "execution_count": null,
   "metadata": {
    "application/vnd.databricks.v1+cell": {
     "cellMetadata": {
      "byteLimit": 2048000,
      "rowLimit": 10000
     },
     "inputWidgets": {},
     "nuid": "bab136a7-d23b-4dc6-99cd-8e914de39025",
     "showTitle": false,
     "title": ""
    }
   },
   "outputs": [
    {
     "data": {
      "text/html": [
       "<style scoped>\n",
       "  .table-result-container {\n",
       "    max-height: 300px;\n",
       "    overflow: auto;\n",
       "  }\n",
       "  table, th, td {\n",
       "    border: 1px solid black;\n",
       "    border-collapse: collapse;\n",
       "  }\n",
       "  th, td {\n",
       "    padding: 5px;\n",
       "  }\n",
       "  th {\n",
       "    text-align: left;\n",
       "  }\n",
       "</style><div class='table-result-container'><table class='table-result'><thead style='background-color: white'><tr><th>name</th><th>review_count</th></tr></thead><tbody></tbody></table></div>"
      ]
     },
     "metadata": {
      "application/vnd.databricks.v1+output": {
       "addedWidgets": {},
       "aggData": [],
       "aggError": "",
       "aggOverflow": false,
       "aggSchema": [],
       "aggSeriesLimitReached": false,
       "aggType": "",
       "arguments": {},
       "columnCustomDisplayInfos": {},
       "data": [],
       "datasetInfos": [],
       "dbfsResultPath": null,
       "isJsonSchema": true,
       "metadata": {},
       "overflow": false,
       "plotOptions": {
        "customPlotOptions": {},
        "displayType": "table",
        "pivotAggregation": null,
        "pivotColumns": null,
        "xColumns": null,
        "yColumns": null
       },
       "removedWidgets": [],
       "schema": [
        {
         "metadata": "{}",
         "name": "name",
         "type": "\"string\""
        },
        {
         "metadata": "{}",
         "name": "review_count",
         "type": "\"long\""
        }
       ],
       "type": "table"
      }
     },
     "output_type": "display_data"
    }
   ],
   "source": [
    "display(df_best_italian_restaurants)"
   ]
  },
  {
   "cell_type": "markdown",
   "metadata": {},
   "source": [
    "SQL version"
   ]
  },
  {
   "cell_type": "code",
   "execution_count": null,
   "metadata": {},
   "outputs": [],
   "source": [
    "%sql\n",
    "WITH Italian_Restaurants AS (\n",
    "    SELECT name, COUNT(review_count) AS review_count\n",
    "    FROM df_business\n",
    "    WHERE city = 'Phoenix' AND categories LIKE '%Italian%'\n",
    "    GROUP BY name\n",
    ")\n",
    "SELECT *\n",
    "FROM Italian_Restaurants\n",
    "WHERE review_count >= 5;"
   ]
  }
 ],
 "metadata": {
  "application/vnd.databricks.v1+notebook": {
   "dashboards": [],
   "language": "python",
   "notebookMetadata": {
    "mostRecentlyExecutedCommandWithImplicitDF": {
     "commandId": 3197132963435516,
     "dataframes": [
      "_sqldf"
     ]
    },
    "pythonIndentUnit": 4
   },
   "notebookName": "dataset-analysis-yelp",
   "widgets": {}
  },
  "kernelspec": {
   "display_name": "base",
   "language": "python",
   "name": "python3"
  },
  "language_info": {
   "codemirror_mode": {
    "name": "ipython",
    "version": 3
   },
   "file_extension": ".py",
   "mimetype": "text/x-python",
   "name": "python",
   "nbconvert_exporter": "python",
   "pygments_lexer": "ipython3",
   "version": "3.11.5"
  }
 },
 "nbformat": 4,
 "nbformat_minor": 0
}
